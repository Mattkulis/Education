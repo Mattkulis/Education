{
 "cells": [
  {
   "cell_type": "code",
   "execution_count": 26,
   "id": "6c2079d7-3b0e-4a77-9ce5-a8995a4267d8",
   "metadata": {},
   "outputs": [
    {
     "name": "stdin",
     "output_type": "stream",
     "text": [
      "Initial Investment: 100\n"
     ]
    }
   ],
   "source": [
    "Initial_investment = input(\"Initial Investment:\")\n"
   ]
  },
  {
   "cell_type": "code",
   "execution_count": 27,
   "id": "281d2903-97a1-42b0-92d8-fc5131b3f005",
   "metadata": {},
   "outputs": [],
   "source": [
    "ii = Initial_investment"
   ]
  },
  {
   "cell_type": "code",
   "execution_count": 28,
   "id": "3edda830-ff20-4f8b-a8cc-0ea919f830b0",
   "metadata": {},
   "outputs": [
    {
     "name": "stdin",
     "output_type": "stream",
     "text": [
      "Returned_value: 1000\n"
     ]
    }
   ],
   "source": [
    "Retuned_value = input('Returned_value:')"
   ]
  },
  {
   "cell_type": "code",
   "execution_count": 29,
   "id": "0a5c376e-f8cc-4ad3-9452-7fe61cdcbf77",
   "metadata": {},
   "outputs": [],
   "source": [
    "rv = Retuned_value"
   ]
  },
  {
   "cell_type": "code",
   "execution_count": 30,
   "id": "3ea20b83-c1df-48a7-a21c-59644c082f85",
   "metadata": {},
   "outputs": [],
   "source": [
    "Percentage_Return = (int(rv)- int(ii)) / int(ii)*100 \n",
    "pr = Percentage_Return"
   ]
  },
  {
   "cell_type": "code",
   "execution_count": 31,
   "id": "ec0a2af2-0049-4cdb-b7bc-6f3a60ee8198",
   "metadata": {},
   "outputs": [],
   "source": [
    "Percentage_return_string = str(pr) +('%')\n",
    "prs = Percentage_return_string"
   ]
  },
  {
   "cell_type": "code",
   "execution_count": 32,
   "id": "0244f1e7-08be-4f7b-ad3f-7aeb79bc1e24",
   "metadata": {},
   "outputs": [
    {
     "data": {
      "text/plain": [
       "'900.0%'"
      ]
     },
     "execution_count": 32,
     "metadata": {},
     "output_type": "execute_result"
    }
   ],
   "source": [
    "prs"
   ]
  },
  {
   "cell_type": "code",
   "execution_count": null,
   "id": "d47927ae-6412-480f-a6b8-e66685977683",
   "metadata": {},
   "outputs": [],
   "source": []
  }
 ],
 "metadata": {
  "kernelspec": {
   "display_name": "Python 3 (ipykernel)",
   "language": "python",
   "name": "python3"
  },
  "language_info": {
   "codemirror_mode": {
    "name": "ipython",
    "version": 3
   },
   "file_extension": ".py",
   "mimetype": "text/x-python",
   "name": "python",
   "nbconvert_exporter": "python",
   "pygments_lexer": "ipython3",
   "version": "3.11.3"
  }
 },
 "nbformat": 4,
 "nbformat_minor": 5
}
